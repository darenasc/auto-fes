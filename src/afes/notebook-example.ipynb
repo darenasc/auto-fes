{
 "cells": [
  {
   "cell_type": "code",
   "execution_count": null,
   "metadata": {},
   "outputs": [],
   "source": [
    "from afes import afe"
   ]
  },
  {
   "cell_type": "code",
   "execution_count": null,
   "metadata": {},
   "outputs": [],
   "source": [
    "TARGET_FOLDER = \"<PATH_TO_FILES_TO_EXPLORE>\"\n",
    "OUTPUT_FOLDER = \"<PATH_TO_OUTPUTS>\""
   ]
  },
  {
   "cell_type": "code",
   "execution_count": null,
   "metadata": {},
   "outputs": [],
   "source": [
    "# Run exploration on the files\n",
    "df_files = afe.explore(TARGET_FOLDER)\n",
    "df_files"
   ]
  },
  {
   "cell_type": "code",
   "execution_count": null,
   "metadata": {},
   "outputs": [],
   "source": [
    "# Generate pandas code to load the files\n",
    "afe.generate(df_files)"
   ]
  },
  {
   "cell_type": "code",
   "execution_count": null,
   "metadata": {},
   "outputs": [],
   "source": [
    "# Run profiling on each file\n",
    "afe.profile(df_files, profile_tool=\"ydata-profiling\", output_path=OUTPUT_FOLDER)\n",
    "afe.profile(df_files, profile_tool=\"sweetviz\", output_path=OUTPUT_FOLDER)"
   ]
  }
 ],
 "metadata": {
  "kernelspec": {
   "display_name": "Python 3",
   "language": "python",
   "name": "python3"
  },
  "language_info": {
   "codemirror_mode": {
    "name": "ipython",
    "version": 3
   },
   "file_extension": ".py",
   "mimetype": "text/x-python",
   "name": "python",
   "nbconvert_exporter": "python",
   "pygments_lexer": "ipython3",
   "version": "3.7.6"
  }
 },
 "nbformat": 4,
 "nbformat_minor": 4
}
